{
 "cells": [
  {
   "cell_type": "markdown",
   "metadata": {},
   "source": [
    "## Week 2: Breast Cancer detection using Machine Learning"
   ]
  },
  {
   "cell_type": "markdown",
   "metadata": {},
   "source": [
    "In week 2, we will be implementing the tools we learnt in week 1 on the breast cancer data set. In the second half, we will also learn some of the basic commands from the library scikit learn. "
   ]
  },
  {
   "cell_type": "markdown",
   "metadata": {},
   "source": [
    "The Breast Cancer Dataset is available at: https://archive.ics.uci.edu/ml/datasets/breast+cancer+wisconsin+%28original%29"
   ]
  },
  {
   "cell_type": "markdown",
   "metadata": {},
   "source": [
    "Those who are having trouble downloading the Dataset from the website, the data will be uploaded in the folder and you can directly download from there. In the following few code cells, I will write all the instructions step wise, your assignment for this week is to write codes for the steps simultaneously in your python file and take time to analyze. \n",
    "In future projects, you will have to think and come up with these steps alongwith writing the codes. "
   ]
  },
  {
   "cell_type": "markdown",
   "metadata": {},
   "source": [
    "#### Step 1: Open the file in your python notebook, print first 5 rows of the dataset and mention what are the dependent and independent variables in the Data.\n",
    "\n",
    "#### Step 2: Find the statistical parameters of the Data that you have\n",
    "\n",
    "#### Step 3: Find the shape of the Dataset in hand. \n",
    "\n",
    "#### Step 4: Find missing values from the Dataset\n",
    "\n",
    "#### Step 5: Find the value count of B(Benign) and M(Malignant) cancer cells in the column \"diagnosis\""
   ]
  },
  {
   "cell_type": "markdown",
   "metadata": {},
   "source": [
    "Before proceeding to step 6, we will learn an important concept which is called label encoding. While navigating through the data, you would have seen that the classification has been done in form of words B and M for benign and malignant cancer cells. But we need this to be converted in number so that this parameter can also be used statistically. "
   ]
  },
  {
   "cell_type": "code",
   "execution_count": null,
   "metadata": {},
   "outputs": [],
   "source": [
    "from sklearn.preprocessing import LabelEncoder\n",
    "labelencoder_Y=LabelEncoder()\n",
    "df.iloc[:,1]=labelencoder_Y.fit_transform(df.iloc[:,1].values)"
   ]
  },
  {
   "cell_type": "markdown",
   "metadata": {},
   "source": [
    "In the above code, we have applied label encoding on all the rows and one column. This is the syntax, there is nothing much to understand here, so just write this code in your notebook and remeber that whenever you will be needing to convert textual feature in form of numbers, you will be needing this coding and this process is called label encoding. "
   ]
  },
  {
   "cell_type": "markdown",
   "metadata": {},
   "source": [
    "#### Step 6: Creating a pairplot and mention the findings\n",
    "Before proceeding to creating a pairplot of all the columns, know that the number of columns in the dataset is huge and if we attempt to create a pairplot, either our hardware will not support it or it will crash if it supports. Even if our hardware is able to do so, the pairplot would be so large that it will be virtually impossible to make a sense of the data. Therefore, we will only create a pairplot of first 5 columns and write the findings. \n",
    "\n",
    "We can do better analysis with the help of correlation matrix. "
   ]
  },
  {
   "cell_type": "markdown",
   "metadata": {},
   "source": [
    "#### Step 7: Create a correlation matrix and mention strongly, weakly and negatively correlated quantities. "
   ]
  },
  {
   "cell_type": "markdown",
   "metadata": {},
   "source": [
    "We tend to drop features having very strong correlation. Why? Think and try to write the answer. I will write this question's answer in week 3 module. "
   ]
  },
  {
   "cell_type": "markdown",
   "metadata": {},
   "source": [
    "#### (Optional) Step 8: Create a heatmap of the correlated features (helps in visualization) "
   ]
  },
  {
   "cell_type": "markdown",
   "metadata": {},
   "source": [
    "That is all for week 2! We will learn about various algorithms in week 3 and implement them. See you next week!"
   ]
  },
  {
   "cell_type": "markdown",
   "metadata": {},
   "source": [
    "All the best!"
   ]
  }
 ],
 "metadata": {
  "kernelspec": {
   "display_name": "Python 3",
   "language": "python",
   "name": "python3"
  },
  "language_info": {
   "codemirror_mode": {
    "name": "ipython",
    "version": 3
   },
   "file_extension": ".py",
   "mimetype": "text/x-python",
   "name": "python",
   "nbconvert_exporter": "python",
   "pygments_lexer": "ipython3",
   "version": "3.7.4"
  }
 },
 "nbformat": 4,
 "nbformat_minor": 2
}
